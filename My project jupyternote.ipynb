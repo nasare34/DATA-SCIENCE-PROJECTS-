{
 "cells": [
  {
   "cell_type": "markdown",
   "id": "02dfd308-ff5f-4e44-a17e-c8cf4966baf5",
   "metadata": {},
   "source": [
    "<h1> MY FIRST JUPYTER NOTEBOOK PROJECT</h1>\n",
    "\n",
    "<p><b>Akwasi Asare.</b></p>\n",
    "\n",
    "<p><i>I am interested in data science because I admire solving real world problems with data.</i></p>\n",
    "\n",
    "\n",
    "<h3>My code is required to sum two individual age numbers</h3>\n"
   ]
  },
  {
   "cell_type": "code",
   "execution_count": 2,
   "id": "fb54854f-ef4f-4873-a75f-28f03621aee3",
   "metadata": {},
   "outputs": [
    {
     "name": "stdout",
     "output_type": "stream",
     "text": [
      "27\n"
     ]
    }
   ],
   "source": [
    "Akwasi = 12\n",
    "Ama = 15\n",
    "print(Akwasi + Ama)"
   ]
  },
  {
   "cell_type": "markdown",
   "id": "ed095427-851c-4385-b462-dca593c08278",
   "metadata": {},
   "source": [
    "<!DOCTYPE html>\n",
    "<html>\n",
    "<body>\n",
    "\n",
    "<h2>An Unordered Liquid food Lists</h2>\n",
    "\n",
    "<ul>\n",
    "  <li>Coffee</li>\n",
    "  <li>Tea</li>\n",
    "  <li>Milk</li>\n",
    "</ul>  \n",
    "\n",
    "<h2>An Ordered Liquid food Lists</h2>\n",
    "\n",
    "<ol>\n",
    "  <li>Coffee</li>\n",
    "  <li>Tea</li>\n",
    "  <li>Milk</li>\n",
    "</ol> \n",
    "\n",
    "</body>\n",
    "</html>\n",
    "\n"
   ]
  },
  {
   "cell_type": "markdown",
   "id": "1ff1aeb0-767c-464f-a4e2-26ae0d896aeb",
   "metadata": {},
   "source": [
    "<!DOCTYPE html>\n",
    "<html>\n",
    "<head>\n",
    "<style>\n",
    "table, th, td {\n",
    "  border: 1px solid black;\n",
    "  border-collapse: collapse;\n",
    "}\n",
    "th, td {\n",
    "  padding: 5px;\n",
    "  text-align: left;\n",
    "}\n",
    "</style>\n",
    "</head>\n",
    "<body>\n",
    "\n",
    "<h2>Horizontal Headings:</h2>\n",
    "\n",
    "<table style=\"width:100%\">\n",
    "  <tr>\n",
    "    <th>Name</th>\n",
    "    <th>Telephone</th>\n",
    "    <th>Telephone</th>\n",
    "  </tr>\n",
    "  <tr>\n",
    "    <td>Bill Gates</td>\n",
    "    <td>555 77 854</td>\n",
    "    <td>555 77 855</td>\n",
    "  </tr>\n",
    "</table>\n",
    "\n",
    "<h2>Vertical Headings:</h2>\n",
    "\n",
    "<table style=\"width:100%\">\n",
    "  <tr>\n",
    "    <th>Name:</th>\n",
    "    <td>Bill Gates</td>\n",
    "  </tr>\n",
    "  <tr>\n",
    "    <th>Telephone:</th>\n",
    "    <td>555 77 854</td>\n",
    "  </tr>\n",
    "  <tr>\n",
    "    <th>Telephone:</th>\n",
    "    <td>555 77 855</td>\n",
    "  </tr>\n",
    "</table>\n",
    "\n",
    "</body>\n",
    "</html>\n"
   ]
  },
  {
   "cell_type": "code",
   "execution_count": null,
   "id": "2df01d64-5d93-4270-b8d0-c592cf26e50c",
   "metadata": {},
   "outputs": [],
   "source": []
  }
 ],
 "metadata": {
  "kernelspec": {
   "display_name": "Python",
   "language": "python",
   "name": "conda-env-python-py"
  },
  "language_info": {
   "codemirror_mode": {
    "name": "ipython",
    "version": 3
   },
   "file_extension": ".py",
   "mimetype": "text/x-python",
   "name": "python",
   "nbconvert_exporter": "python",
   "pygments_lexer": "ipython3",
   "version": "3.7.12"
  }
 },
 "nbformat": 4,
 "nbformat_minor": 5
}
